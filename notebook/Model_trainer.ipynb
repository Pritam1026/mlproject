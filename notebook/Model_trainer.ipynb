{
 "cells": [
  {
   "attachments": {},
   "cell_type": "markdown",
   "metadata": {},
   "source": [
    "# MODEL TRAINING\n",
    "---\n",
    "### 1.1 IMPORTING DATA AND REQUIRED PACKAGES"
   ]
  },
  {
   "cell_type": "code",
   "execution_count": 1,
   "metadata": {},
   "outputs": [],
   "source": [
    "#Basic library\n",
    "import numpy as np\n",
    "import pandas as pd\n",
    "import seaborn as sns\n",
    "import matplotlib.pyplot as plt\n",
    "\n",
    "#Modelling and evaluation library\n",
    "from sklearn.neighbors import KNeighborsRegressor\n",
    "from sklearn.metrics import mean_squared_error, r2_score\n",
    "from sklearn.tree import DecisionTreeRegressor\n",
    "from sklearn.ensemble import RandomForestRegressor,AdaBoostRegressor\n",
    "from sklearn.svm import SVR\n",
    "from sklearn.linear_model import LinearRegression, Ridge,Lasso\n",
    "from sklearn.metrics import r2_score, mean_absolute_error, mean_squared_error\n",
    "from sklearn.model_selection import RandomizedSearchCV\n",
    "from catboost import CatBoostRegressor\n",
    "import warnings"
   ]
  },
  {
   "attachments": {},
   "cell_type": "markdown",
   "metadata": {},
   "source": [
    "### 1.2 DATA"
   ]
  },
  {
   "cell_type": "code",
   "execution_count": 7,
   "metadata": {},
   "outputs": [
    {
     "data": {
      "text/html": [
       "<div>\n",
       "<style scoped>\n",
       "    .dataframe tbody tr th:only-of-type {\n",
       "        vertical-align: middle;\n",
       "    }\n",
       "\n",
       "    .dataframe tbody tr th {\n",
       "        vertical-align: top;\n",
       "    }\n",
       "\n",
       "    .dataframe thead th {\n",
       "        text-align: right;\n",
       "    }\n",
       "</style>\n",
       "<table border=\"1\" class=\"dataframe\">\n",
       "  <thead>\n",
       "    <tr style=\"text-align: right;\">\n",
       "      <th></th>\n",
       "      <th>gender</th>\n",
       "      <th>race_ethnicity</th>\n",
       "      <th>parental_level_of_education</th>\n",
       "      <th>lunch</th>\n",
       "      <th>test_preparation_course</th>\n",
       "      <th>math_score</th>\n",
       "      <th>reading_score</th>\n",
       "      <th>writing_score</th>\n",
       "    </tr>\n",
       "  </thead>\n",
       "  <tbody>\n",
       "    <tr>\n",
       "      <th>0</th>\n",
       "      <td>female</td>\n",
       "      <td>group B</td>\n",
       "      <td>bachelor's degree</td>\n",
       "      <td>standard</td>\n",
       "      <td>none</td>\n",
       "      <td>72</td>\n",
       "      <td>72</td>\n",
       "      <td>74</td>\n",
       "    </tr>\n",
       "    <tr>\n",
       "      <th>1</th>\n",
       "      <td>female</td>\n",
       "      <td>group C</td>\n",
       "      <td>some college</td>\n",
       "      <td>standard</td>\n",
       "      <td>completed</td>\n",
       "      <td>69</td>\n",
       "      <td>90</td>\n",
       "      <td>88</td>\n",
       "    </tr>\n",
       "    <tr>\n",
       "      <th>2</th>\n",
       "      <td>female</td>\n",
       "      <td>group B</td>\n",
       "      <td>master's degree</td>\n",
       "      <td>standard</td>\n",
       "      <td>none</td>\n",
       "      <td>90</td>\n",
       "      <td>95</td>\n",
       "      <td>93</td>\n",
       "    </tr>\n",
       "  </tbody>\n",
       "</table>\n",
       "</div>"
      ],
      "text/plain": [
       "   gender race_ethnicity parental_level_of_education     lunch   \n",
       "0  female        group B           bachelor's degree  standard  \\\n",
       "1  female        group C                some college  standard   \n",
       "2  female        group B             master's degree  standard   \n",
       "\n",
       "  test_preparation_course  math_score  reading_score  writing_score  \n",
       "0                    none          72             72             74  \n",
       "1               completed          69             90             88  \n",
       "2                    none          90             95             93  "
      ]
     },
     "execution_count": 7,
     "metadata": {},
     "output_type": "execute_result"
    }
   ],
   "source": [
    "df=pd.read_csv('data/stud.csv')\n",
    "df.head(3)"
   ]
  },
  {
   "attachments": {},
   "cell_type": "markdown",
   "metadata": {},
   "source": [
    "### 1.3 PROBLEM STATEMENT\n",
    "- The problem statement is to predict the math score based on other features hence math score is my output variable while other\n",
    "  features are my input variable."
   ]
  },
  {
   "cell_type": "code",
   "execution_count": 29,
   "metadata": {},
   "outputs": [],
   "source": [
    "X=df.drop('math_score',axis=1)"
   ]
  },
  {
   "cell_type": "code",
   "execution_count": 30,
   "metadata": {},
   "outputs": [],
   "source": [
    "y=df['math_score']"
   ]
  },
  {
   "cell_type": "code",
   "execution_count": 31,
   "metadata": {},
   "outputs": [
    {
     "data": {
      "text/html": [
       "<div>\n",
       "<style scoped>\n",
       "    .dataframe tbody tr th:only-of-type {\n",
       "        vertical-align: middle;\n",
       "    }\n",
       "\n",
       "    .dataframe tbody tr th {\n",
       "        vertical-align: top;\n",
       "    }\n",
       "\n",
       "    .dataframe thead th {\n",
       "        text-align: right;\n",
       "    }\n",
       "</style>\n",
       "<table border=\"1\" class=\"dataframe\">\n",
       "  <thead>\n",
       "    <tr style=\"text-align: right;\">\n",
       "      <th></th>\n",
       "      <th>gender</th>\n",
       "      <th>race_ethnicity</th>\n",
       "      <th>parental_level_of_education</th>\n",
       "      <th>lunch</th>\n",
       "      <th>test_preparation_course</th>\n",
       "      <th>reading_score</th>\n",
       "      <th>writing_score</th>\n",
       "    </tr>\n",
       "  </thead>\n",
       "  <tbody>\n",
       "    <tr>\n",
       "      <th>0</th>\n",
       "      <td>female</td>\n",
       "      <td>group B</td>\n",
       "      <td>bachelor's degree</td>\n",
       "      <td>standard</td>\n",
       "      <td>none</td>\n",
       "      <td>72</td>\n",
       "      <td>74</td>\n",
       "    </tr>\n",
       "    <tr>\n",
       "      <th>1</th>\n",
       "      <td>female</td>\n",
       "      <td>group C</td>\n",
       "      <td>some college</td>\n",
       "      <td>standard</td>\n",
       "      <td>completed</td>\n",
       "      <td>90</td>\n",
       "      <td>88</td>\n",
       "    </tr>\n",
       "    <tr>\n",
       "      <th>2</th>\n",
       "      <td>female</td>\n",
       "      <td>group B</td>\n",
       "      <td>master's degree</td>\n",
       "      <td>standard</td>\n",
       "      <td>none</td>\n",
       "      <td>95</td>\n",
       "      <td>93</td>\n",
       "    </tr>\n",
       "    <tr>\n",
       "      <th>3</th>\n",
       "      <td>male</td>\n",
       "      <td>group A</td>\n",
       "      <td>associate's degree</td>\n",
       "      <td>free/reduced</td>\n",
       "      <td>none</td>\n",
       "      <td>57</td>\n",
       "      <td>44</td>\n",
       "    </tr>\n",
       "    <tr>\n",
       "      <th>4</th>\n",
       "      <td>male</td>\n",
       "      <td>group C</td>\n",
       "      <td>some college</td>\n",
       "      <td>standard</td>\n",
       "      <td>none</td>\n",
       "      <td>78</td>\n",
       "      <td>75</td>\n",
       "    </tr>\n",
       "  </tbody>\n",
       "</table>\n",
       "</div>"
      ],
      "text/plain": [
       "   gender race_ethnicity parental_level_of_education         lunch   \n",
       "0  female        group B           bachelor's degree      standard  \\\n",
       "1  female        group C                some college      standard   \n",
       "2  female        group B             master's degree      standard   \n",
       "3    male        group A          associate's degree  free/reduced   \n",
       "4    male        group C                some college      standard   \n",
       "\n",
       "  test_preparation_course  reading_score  writing_score  \n",
       "0                    none             72             74  \n",
       "1               completed             90             88  \n",
       "2                    none             95             93  \n",
       "3                    none             57             44  \n",
       "4                    none             78             75  "
      ]
     },
     "execution_count": 31,
     "metadata": {},
     "output_type": "execute_result"
    }
   ],
   "source": [
    "X.head()"
   ]
  },
  {
   "cell_type": "code",
   "execution_count": 32,
   "metadata": {},
   "outputs": [
    {
     "data": {
      "text/plain": [
       "0    72\n",
       "1    69\n",
       "2    90\n",
       "3    47\n",
       "4    76\n",
       "Name: math_score, dtype: int64"
      ]
     },
     "execution_count": 32,
     "metadata": {},
     "output_type": "execute_result"
    }
   ],
   "source": [
    "y.head()"
   ]
  },
  {
   "attachments": {},
   "cell_type": "markdown",
   "metadata": {},
   "source": [
    "### 1.3 ONEHOT ENCODING AND STANDARDIZATION.\n",
    "\n",
    "- Lets separate out the categorical and numerical columns"
   ]
  },
  {
   "cell_type": "code",
   "execution_count": 33,
   "metadata": {},
   "outputs": [],
   "source": [
    "num_features=[i for i in X.columns.values if df[i].dtype!='O']\n",
    "cat_features=[i for i in X.columns.values if df[i].dtype=='O']"
   ]
  },
  {
   "cell_type": "code",
   "execution_count": 34,
   "metadata": {},
   "outputs": [],
   "source": [
    "from sklearn.preprocessing import OneHotEncoder,StandardScaler\n",
    "from sklearn.compose import ColumnTransformer\n",
    "num_transformer=StandardScaler()\n",
    "oh_transformer=OneHotEncoder()\n",
    "\n",
    "preprocessor=ColumnTransformer([\n",
    "    ('One_hot_encoding',oh_transformer,cat_features),\n",
    "    ('standardization',num_transformer,num_features)\n",
    "])"
   ]
  },
  {
   "cell_type": "code",
   "execution_count": 35,
   "metadata": {},
   "outputs": [],
   "source": [
    "X=preprocessor.fit_transform(X)"
   ]
  },
  {
   "cell_type": "code",
   "execution_count": 36,
   "metadata": {},
   "outputs": [
    {
     "data": {
      "text/plain": [
       "array([[ 1.        ,  0.        ,  0.        , ...,  1.        ,\n",
       "         0.19399858,  0.39149181],\n",
       "       [ 1.        ,  0.        ,  0.        , ...,  0.        ,\n",
       "         1.42747598,  1.31326868],\n",
       "       [ 1.        ,  0.        ,  0.        , ...,  1.        ,\n",
       "         1.77010859,  1.64247471],\n",
       "       ...,\n",
       "       [ 1.        ,  0.        ,  0.        , ...,  0.        ,\n",
       "         0.12547206, -0.20107904],\n",
       "       [ 1.        ,  0.        ,  0.        , ...,  0.        ,\n",
       "         0.60515772,  0.58901542],\n",
       "       [ 1.        ,  0.        ,  0.        , ...,  1.        ,\n",
       "         1.15336989,  1.18158627]])"
      ]
     },
     "execution_count": 36,
     "metadata": {},
     "output_type": "execute_result"
    }
   ],
   "source": [
    "X"
   ]
  },
  {
   "cell_type": "code",
   "execution_count": 37,
   "metadata": {},
   "outputs": [
    {
     "data": {
      "text/plain": [
       "(1000, 19)"
      ]
     },
     "execution_count": 37,
     "metadata": {},
     "output_type": "execute_result"
    }
   ],
   "source": [
    "X.shape"
   ]
  },
  {
   "attachments": {},
   "cell_type": "markdown",
   "metadata": {},
   "source": [
    "### 1.4 TRAIN TEST SPLIT"
   ]
  },
  {
   "cell_type": "code",
   "execution_count": 39,
   "metadata": {},
   "outputs": [],
   "source": [
    "from sklearn.model_selection import train_test_split"
   ]
  },
  {
   "cell_type": "code",
   "execution_count": 40,
   "metadata": {},
   "outputs": [],
   "source": [
    "X_train, X_test, y_train, y_test = train_test_split(X, y, test_size=0.2, random_state=42)"
   ]
  },
  {
   "cell_type": "code",
   "execution_count": 41,
   "metadata": {},
   "outputs": [
    {
     "data": {
      "text/plain": [
       "(800, 19)"
      ]
     },
     "execution_count": 41,
     "metadata": {},
     "output_type": "execute_result"
    }
   ],
   "source": [
    "X_train.shape"
   ]
  },
  {
   "cell_type": "code",
   "execution_count": 42,
   "metadata": {},
   "outputs": [
    {
     "data": {
      "text/plain": [
       "(200, 19)"
      ]
     },
     "execution_count": 42,
     "metadata": {},
     "output_type": "execute_result"
    }
   ],
   "source": [
    "X_test.shape"
   ]
  },
  {
   "attachments": {},
   "cell_type": "markdown",
   "metadata": {},
   "source": [
    "### 1.5 CREATING AN EVALUATION MATRICS\n",
    "- As this is a regression problem we will try to build the evaluation matrics"
   ]
  },
  {
   "cell_type": "code",
   "execution_count": 46,
   "metadata": {},
   "outputs": [],
   "source": [
    "def evaluate_model(true,prediction):\n",
    "    mae=mean_absolute_error(true,prediction)\n",
    "    mse=mean_squared_error(true,prediction)\n",
    "    rmse=np.sqrt(mse)\n",
    "    r2_square=r2_score(true,prediction)\n",
    "    return mae,rmse,r2_square"
   ]
  },
  {
   "attachments": {},
   "cell_type": "markdown",
   "metadata": {},
   "source": [
    "### 1.5 MODELS \n"
   ]
  },
  {
   "attachments": {},
   "cell_type": "markdown",
   "metadata": {},
   "source": [
    "- We will try to run many different models and check their model performences"
   ]
  },
  {
   "cell_type": "code",
   "execution_count": 58,
   "metadata": {},
   "outputs": [],
   "source": [
    "models={'Linear regression':LinearRegression(),\n",
    "        'Lasso':Lasso(),\n",
    "        'Ridge':Ridge(),\n",
    "        'K nearest neighbour':KNeighborsRegressor(),\n",
    "        'DecisionTreeRegressor':DecisionTreeRegressor(),\n",
    "        'Random Forest Regressor':RandomForestRegressor(),\n",
    "        'Cat boost regressor':CatBoostRegressor(verbose=False),\n",
    "        'AdaBoostRegressor':AdaBoostRegressor()\n",
    "        }\n",
    "#These are the models we are going to try and evaluate."
   ]
  },
  {
   "cell_type": "code",
   "execution_count": 69,
   "metadata": {},
   "outputs": [
    {
     "name": "stdout",
     "output_type": "stream",
     "text": [
      "Linear regression\n",
      "-----------------------------------\n",
      "Model performance on training set\n",
      "-----------------------------------\n",
      "Root mean square error : 5.34\n",
      "Mean absolute error : 4.27\n",
      "R2 score : 0.87\n",
      "-----------------------------------\n",
      "Model performance on test set\n",
      "-----------------------------------\n",
      "Root mean square error : 5.42\n",
      "Mean absolute error : 4.23\n",
      "R2 score : 0.88\n",
      "===================================\n",
      "\n",
      "\n",
      "Lasso\n",
      "-----------------------------------\n",
      "Model performance on training set\n",
      "-----------------------------------\n",
      "Root mean square error : 6.59\n",
      "Mean absolute error : 5.21\n",
      "R2 score : 0.81\n",
      "-----------------------------------\n",
      "Model performance on test set\n",
      "-----------------------------------\n",
      "Root mean square error : 6.52\n",
      "Mean absolute error : 5.16\n",
      "R2 score : 0.83\n",
      "===================================\n",
      "\n",
      "\n",
      "Ridge\n",
      "-----------------------------------\n",
      "Model performance on training set\n",
      "-----------------------------------\n",
      "Root mean square error : 5.32\n",
      "Mean absolute error : 4.26\n",
      "R2 score : 0.87\n",
      "-----------------------------------\n",
      "Model performance on test set\n",
      "-----------------------------------\n",
      "Root mean square error : 5.39\n",
      "Mean absolute error : 4.21\n",
      "R2 score : 0.88\n",
      "===================================\n",
      "\n",
      "\n",
      "K nearest neighbour\n",
      "-----------------------------------\n",
      "Model performance on training set\n",
      "-----------------------------------\n",
      "Root mean square error : 5.71\n",
      "Mean absolute error : 4.52\n",
      "R2 score : 0.86\n",
      "-----------------------------------\n",
      "Model performance on test set\n",
      "-----------------------------------\n",
      "Root mean square error : 7.25\n",
      "Mean absolute error : 5.62\n",
      "R2 score : 0.78\n",
      "===================================\n",
      "\n",
      "\n",
      "DecisionTreeRegressor\n",
      "-----------------------------------\n",
      "Model performance on training set\n",
      "-----------------------------------\n",
      "Root mean square error : 0.28\n",
      "Mean absolute error : 0.02\n",
      "R2 score : 1.00\n",
      "-----------------------------------\n",
      "Model performance on test set\n",
      "-----------------------------------\n",
      "Root mean square error : 7.81\n",
      "Mean absolute error : 6.21\n",
      "R2 score : 0.75\n",
      "===================================\n",
      "\n",
      "\n",
      "Random Forest Regressor\n",
      "-----------------------------------\n",
      "Model performance on training set\n",
      "-----------------------------------\n",
      "Root mean square error : 2.32\n",
      "Mean absolute error : 1.84\n",
      "R2 score : 0.98\n",
      "-----------------------------------\n",
      "Model performance on test set\n",
      "-----------------------------------\n",
      "Root mean square error : 5.95\n",
      "Mean absolute error : 4.63\n",
      "R2 score : 0.85\n",
      "===================================\n",
      "\n",
      "\n",
      "Cat boost regressor\n",
      "-----------------------------------\n",
      "Model performance on training set\n",
      "-----------------------------------\n",
      "Root mean square error : 3.04\n",
      "Mean absolute error : 2.41\n",
      "R2 score : 0.96\n",
      "-----------------------------------\n",
      "Model performance on test set\n",
      "-----------------------------------\n",
      "Root mean square error : 6.01\n",
      "Mean absolute error : 4.61\n",
      "R2 score : 0.85\n",
      "===================================\n",
      "\n",
      "\n",
      "AdaBoostRegressor\n",
      "-----------------------------------\n",
      "Model performance on training set\n",
      "-----------------------------------\n",
      "Root mean square error : 5.88\n",
      "Mean absolute error : 4.81\n",
      "R2 score : 0.85\n",
      "-----------------------------------\n",
      "Model performance on test set\n",
      "-----------------------------------\n",
      "Root mean square error : 6.24\n",
      "Mean absolute error : 4.90\n",
      "R2 score : 0.84\n",
      "===================================\n",
      "\n",
      "\n"
     ]
    }
   ],
   "source": [
    "model_list=[]\n",
    "r2_list=[]\n",
    "rmse_list=[]\n",
    "\n",
    "for i in range(len(list(models.keys()))):\n",
    "    #model fitting\n",
    "    model=list(models.values())[i]\n",
    "    model.fit(X_train,y_train)\n",
    "\n",
    "    #predictions\n",
    "    y_train_pred=model.predict(X_train)\n",
    "    y_test_pred=model.predict(X_test)\n",
    "\n",
    "\n",
    "    #Evaluation\n",
    "    model_train_mae,model_train_rmse,model_train_r2_score=evaluate_model(y_train,y_train_pred)\n",
    "    model_test_mae,model_test_rmse,model_test_r2_score=evaluate_model(y_test,y_test_pred)\n",
    "\n",
    "    #Model r2 score and Rmse saving\n",
    "    model_list.append(list(models.keys())[i])\n",
    "    r2_list.append(model_test_r2_score)\n",
    "    rmse_list.append(model_test_rmse)\n",
    "\n",
    "    #Reporting\n",
    "    print(list(models.keys())[i])\n",
    "    print(\"-\"*35)\n",
    "    print('Model performance on training set')\n",
    "    print('-'*35)\n",
    "    print(f'Root mean square error : {model_train_rmse:.2f}')\n",
    "    print(f'Mean absolute error : {model_train_mae:.2f}')\n",
    "    print(f'R2 score : {model_train_r2_score:.2f}')\n",
    "    print(\"-\"*35)\n",
    "    print('Model performance on test set')\n",
    "    print('-'*35)\n",
    "    print(f'Root mean square error : {model_test_rmse:.2f}')\n",
    "    print(f'Mean absolute error : {model_test_mae:.2f}')\n",
    "    print(f'R2 score : {model_test_r2_score:.2f}')\n",
    "    print(\"=\"*35)\n",
    "    print('\\n')\n",
    "\n",
    "\n"
   ]
  },
  {
   "cell_type": "code",
   "execution_count": 79,
   "metadata": {},
   "outputs": [
    {
     "data": {
      "text/html": [
       "<div>\n",
       "<style scoped>\n",
       "    .dataframe tbody tr th:only-of-type {\n",
       "        vertical-align: middle;\n",
       "    }\n",
       "\n",
       "    .dataframe tbody tr th {\n",
       "        vertical-align: top;\n",
       "    }\n",
       "\n",
       "    .dataframe thead th {\n",
       "        text-align: right;\n",
       "    }\n",
       "</style>\n",
       "<table border=\"1\" class=\"dataframe\">\n",
       "  <thead>\n",
       "    <tr style=\"text-align: right;\">\n",
       "      <th></th>\n",
       "      <th>Models</th>\n",
       "      <th>R2 score</th>\n",
       "      <th>Rmse score</th>\n",
       "    </tr>\n",
       "  </thead>\n",
       "  <tbody>\n",
       "    <tr>\n",
       "      <th>2</th>\n",
       "      <td>Ridge</td>\n",
       "      <td>0.880593</td>\n",
       "      <td>5.390387</td>\n",
       "    </tr>\n",
       "    <tr>\n",
       "      <th>0</th>\n",
       "      <td>Linear regression</td>\n",
       "      <td>0.879216</td>\n",
       "      <td>5.421372</td>\n",
       "    </tr>\n",
       "    <tr>\n",
       "      <th>5</th>\n",
       "      <td>Random Forest Regressor</td>\n",
       "      <td>0.854383</td>\n",
       "      <td>5.952673</td>\n",
       "    </tr>\n",
       "    <tr>\n",
       "      <th>6</th>\n",
       "      <td>Cat boost regressor</td>\n",
       "      <td>0.851632</td>\n",
       "      <td>6.008632</td>\n",
       "    </tr>\n",
       "    <tr>\n",
       "      <th>7</th>\n",
       "      <td>AdaBoostRegressor</td>\n",
       "      <td>0.839759</td>\n",
       "      <td>6.244425</td>\n",
       "    </tr>\n",
       "    <tr>\n",
       "      <th>1</th>\n",
       "      <td>Lasso</td>\n",
       "      <td>0.825320</td>\n",
       "      <td>6.519695</td>\n",
       "    </tr>\n",
       "    <tr>\n",
       "      <th>3</th>\n",
       "      <td>K nearest neighbour</td>\n",
       "      <td>0.783813</td>\n",
       "      <td>7.253041</td>\n",
       "    </tr>\n",
       "    <tr>\n",
       "      <th>4</th>\n",
       "      <td>DecisionTreeRegressor</td>\n",
       "      <td>0.749135</td>\n",
       "      <td>7.813130</td>\n",
       "    </tr>\n",
       "  </tbody>\n",
       "</table>\n",
       "</div>"
      ],
      "text/plain": [
       "                    Models  R2 score  Rmse score\n",
       "2                    Ridge  0.880593    5.390387\n",
       "0        Linear regression  0.879216    5.421372\n",
       "5  Random Forest Regressor  0.854383    5.952673\n",
       "6      Cat boost regressor  0.851632    6.008632\n",
       "7        AdaBoostRegressor  0.839759    6.244425\n",
       "1                    Lasso  0.825320    6.519695\n",
       "3      K nearest neighbour  0.783813    7.253041\n",
       "4    DecisionTreeRegressor  0.749135    7.813130"
      ]
     },
     "execution_count": 79,
     "metadata": {},
     "output_type": "execute_result"
    }
   ],
   "source": [
    "pd.DataFrame(list(zip(model_list,r2_list,rmse_list)),columns=['Models','R2 score','Rmse score']).sort_values(by='R2 score',\n",
    "                                                                                                             ascending=False)"
   ]
  },
  {
   "cell_type": "code",
   "execution_count": 80,
   "metadata": {},
   "outputs": [],
   "source": [
    "#Here we can see that the Linear regression and Ridge regression performs the best on the given dataset."
   ]
  },
  {
   "attachments": {},
   "cell_type": "markdown",
   "metadata": {},
   "source": [
    "### 1.6 LINEAR REGRESSION"
   ]
  },
  {
   "cell_type": "code",
   "execution_count": 82,
   "metadata": {},
   "outputs": [],
   "source": [
    "model=LinearRegression(fit_intercept=True)\n",
    "model.fit(X_train,y_train)\n",
    "\n",
    "y_train_predict=model.predict(X_train)\n",
    "y_test_predict=model.predict(X_test)"
   ]
  },
  {
   "cell_type": "code",
   "execution_count": 89,
   "metadata": {},
   "outputs": [
    {
     "data": {
      "image/png": "[encoded data removed]",
      "text/plain": [
       "<Figure size 640x480 with 1 Axes>"
      ]
     },
     "metadata": {},
     "output_type": "display_data"
    }
   ],
   "source": [
    "plt.scatter(y_train,y_train_predict)\n",
    "plt.ylabel('Actual')\n",
    "plt.xlabel('Predicted')\n",
    "plt.show()"
   ]
  },
  {
   "cell_type": "code",
   "execution_count": null,
   "metadata": {},
   "outputs": [],
   "source": []
  }
 ],
 "metadata": {
  "kernelspec": {
   "display_name": "Python 3",
   "language": "python",
   "name": "python3"
  },
  "language_info": {
   "codemirror_mode": {
    "name": "ipython",
    "version": 3
   },
   "file_extension": ".py",
   "mimetype": "text/x-python",
   "name": "python",
   "nbconvert_exporter": "python",
   "pygments_lexer": "ipython3",
   "version": "3.8.0"
  },
  "orig_nbformat": 4
 },
 "nbformat": 4,
 "nbformat_minor": 2
}
